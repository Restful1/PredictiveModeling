{
 "cells": [
  {
   "cell_type": "code",
   "execution_count": 79,
   "metadata": {},
   "outputs": [],
   "source": [
    "# Load Credit Card Data into Dataframe\n",
    "import pandas as pd\n",
    "from scipy.io import arff\n",
    "\n",
    "data_file=\"german_credit.arff\"\n",
    "data=arff.loadarff(data_file)\n",
    "\n",
    "raw_data=pd.DataFrame(data[0])\n",
    "for col in raw_data.columns:\n",
    "    if raw_data[col].dtype=='object':\n",
    "        #making sure data is not read as bytes but as string values from a file\n",
    "        raw_data[col] = raw_data[col].str.decode('utf-8')"
   ]
  },
  {
   "cell_type": "code",
   "execution_count": 80,
   "metadata": {},
   "outputs": [
    {
     "name": "stdout",
     "output_type": "stream",
     "text": [
      "Creditability                         object\n",
      "Account Balance                       object\n",
      "Duration of Credit (month)           float64\n",
      "Payment Status of Previous Credit     object\n",
      "Purpose                               object\n",
      "Credit Amount                        float64\n",
      "Value Savings/Stocks                  object\n",
      "Length of current employment          object\n",
      "Instalment per cent                  float64\n",
      "Sex & Marital Status                  object\n",
      "Guarantors                            object\n",
      "Duration in Current address           object\n",
      "Most valuable available asset         object\n",
      "Age (years)                          float64\n",
      "Concurrent Credits                    object\n",
      "Type of apartment                     object\n",
      "No of Credits at this Bank           float64\n",
      "Occupation                            object\n",
      "No of dependents                     float64\n",
      "Telephone                             object\n",
      "Foreign Worker                        object\n",
      "dtype: object\n"
     ]
    }
   ],
   "source": [
    "print(raw_data.dtypes)"
   ]
  },
  {
   "cell_type": "code",
   "execution_count": 96,
   "metadata": {},
   "outputs": [
    {
     "data": {
      "text/html": [
       "<div>\n",
       "<style scoped>\n",
       "    .dataframe tbody tr th:only-of-type {\n",
       "        vertical-align: middle;\n",
       "    }\n",
       "\n",
       "    .dataframe tbody tr th {\n",
       "        vertical-align: top;\n",
       "    }\n",
       "\n",
       "    .dataframe thead th {\n",
       "        text-align: right;\n",
       "    }\n",
       "</style>\n",
       "<table border=\"1\" class=\"dataframe\">\n",
       "  <thead>\n",
       "    <tr style=\"text-align: right;\">\n",
       "      <th></th>\n",
       "      <th>Attributes</th>\n",
       "      <th>Data Types</th>\n",
       "    </tr>\n",
       "  </thead>\n",
       "  <tbody>\n",
       "    <tr>\n",
       "      <th>0</th>\n",
       "      <td>Creditability</td>\n",
       "      <td>Class Attribute</td>\n",
       "    </tr>\n",
       "    <tr>\n",
       "      <th>1</th>\n",
       "      <td>Account Balance</td>\n",
       "      <td>Ordinal</td>\n",
       "    </tr>\n",
       "    <tr>\n",
       "      <th>2</th>\n",
       "      <td>Duration of Credit (month)</td>\n",
       "      <td>Discrete</td>\n",
       "    </tr>\n",
       "    <tr>\n",
       "      <th>3</th>\n",
       "      <td>Payment Status of Previous Credit</td>\n",
       "      <td>Ordinal</td>\n",
       "    </tr>\n",
       "    <tr>\n",
       "      <th>4</th>\n",
       "      <td>Purpose</td>\n",
       "      <td>Nominal</td>\n",
       "    </tr>\n",
       "    <tr>\n",
       "      <th>5</th>\n",
       "      <td>Credit Amount</td>\n",
       "      <td>Continuous</td>\n",
       "    </tr>\n",
       "    <tr>\n",
       "      <th>6</th>\n",
       "      <td>Value Savings/Stocks</td>\n",
       "      <td>Ordinal</td>\n",
       "    </tr>\n",
       "    <tr>\n",
       "      <th>7</th>\n",
       "      <td>Length of current employment</td>\n",
       "      <td>Ordinal</td>\n",
       "    </tr>\n",
       "    <tr>\n",
       "      <th>8</th>\n",
       "      <td>Instalment per cent</td>\n",
       "      <td>Continuous</td>\n",
       "    </tr>\n",
       "    <tr>\n",
       "      <th>9</th>\n",
       "      <td>Sex &amp; Marital Status</td>\n",
       "      <td>Nominal</td>\n",
       "    </tr>\n",
       "    <tr>\n",
       "      <th>10</th>\n",
       "      <td>Guarantors</td>\n",
       "      <td>Nominal</td>\n",
       "    </tr>\n",
       "    <tr>\n",
       "      <th>11</th>\n",
       "      <td>Duration in Current address</td>\n",
       "      <td>Ordinal</td>\n",
       "    </tr>\n",
       "    <tr>\n",
       "      <th>12</th>\n",
       "      <td>Most valuable available asset</td>\n",
       "      <td>Nominal</td>\n",
       "    </tr>\n",
       "    <tr>\n",
       "      <th>13</th>\n",
       "      <td>Age (years)</td>\n",
       "      <td>Discrete</td>\n",
       "    </tr>\n",
       "    <tr>\n",
       "      <th>14</th>\n",
       "      <td>Concurrent Credits</td>\n",
       "      <td>Nominal</td>\n",
       "    </tr>\n",
       "    <tr>\n",
       "      <th>15</th>\n",
       "      <td>Type of apartment</td>\n",
       "      <td>Nominal</td>\n",
       "    </tr>\n",
       "    <tr>\n",
       "      <th>16</th>\n",
       "      <td>No of Credits at this Bank</td>\n",
       "      <td>Discrete</td>\n",
       "    </tr>\n",
       "    <tr>\n",
       "      <th>17</th>\n",
       "      <td>Occupation</td>\n",
       "      <td>Nominal</td>\n",
       "    </tr>\n",
       "    <tr>\n",
       "      <th>18</th>\n",
       "      <td>No of dependents</td>\n",
       "      <td>Discrete</td>\n",
       "    </tr>\n",
       "    <tr>\n",
       "      <th>19</th>\n",
       "      <td>Telephone</td>\n",
       "      <td>Nominal</td>\n",
       "    </tr>\n",
       "    <tr>\n",
       "      <th>20</th>\n",
       "      <td>Foreign Worker</td>\n",
       "      <td>Nominal</td>\n",
       "    </tr>\n",
       "  </tbody>\n",
       "</table>\n",
       "</div>"
      ],
      "text/plain": [
       "                           Attributes       Data Types\n",
       "0                       Creditability  Class Attribute\n",
       "1                     Account Balance          Ordinal\n",
       "2          Duration of Credit (month)         Discrete\n",
       "3   Payment Status of Previous Credit          Ordinal\n",
       "4                             Purpose          Nominal\n",
       "5                       Credit Amount       Continuous\n",
       "6                Value Savings/Stocks          Ordinal\n",
       "7        Length of current employment          Ordinal\n",
       "8                 Instalment per cent       Continuous\n",
       "9                Sex & Marital Status          Nominal\n",
       "10                         Guarantors          Nominal\n",
       "11        Duration in Current address          Ordinal\n",
       "12      Most valuable available asset          Nominal\n",
       "13                        Age (years)         Discrete\n",
       "14                 Concurrent Credits          Nominal\n",
       "15                  Type of apartment          Nominal\n",
       "16         No of Credits at this Bank         Discrete\n",
       "17                         Occupation          Nominal\n",
       "18                   No of dependents         Discrete\n",
       "19                          Telephone          Nominal\n",
       "20                     Foreign Worker          Nominal"
      ]
     },
     "execution_count": 96,
     "metadata": {},
     "output_type": "execute_result"
    }
   ],
   "source": [
    "# Create table of data types\n",
    "# Set header row as column\n",
    "attributes = list(raw_data)\n",
    "manual_types = [\"Class Attribute\", \"Ordinal\", \"Discrete\", \"Ordinal\", \"Nominal\", \"Continuous\", \"Ordinal\", \"Ordinal\", \"Continuous\", \"Nominal\", \"Nominal\", \"Ordinal\", \"Nominal\", \"Discrete\", \"Nominal\", \"Nominal\", \"Discrete\", \"Nominal\", \"Discrete\", \"Nominal\", \"Nominal\"]\n",
    "pd.DataFrame({\"Attributes\":attributes,\n",
    "             \"Data Types\":manual_types})"
   ]
  },
  {
   "cell_type": "code",
   "execution_count": 94,
   "metadata": {},
   "outputs": [
    {
     "name": "stdout",
     "output_type": "stream",
     "text": [
      "<class 'pandas.core.frame.DataFrame'>\n",
      "RangeIndex: 1000 entries, 0 to 999\n",
      "Data columns (total 21 columns):\n",
      " #   Column                             Non-Null Count  Dtype  \n",
      "---  ------                             --------------  -----  \n",
      " 0   Creditability                      1000 non-null   object \n",
      " 1   Account Balance                    1000 non-null   object \n",
      " 2   Duration of Credit (month)         1000 non-null   float64\n",
      " 3   Payment Status of Previous Credit  1000 non-null   object \n",
      " 4   Purpose                            1000 non-null   object \n",
      " 5   Credit Amount                      1000 non-null   float64\n",
      " 6   Value Savings/Stocks               1000 non-null   object \n",
      " 7   Length of current employment       1000 non-null   object \n",
      " 8   Instalment per cent                1000 non-null   float64\n",
      " 9   Sex & Marital Status               1000 non-null   object \n",
      " 10  Guarantors                         1000 non-null   object \n",
      " 11  Duration in Current address        1000 non-null   object \n",
      " 12  Most valuable available asset      1000 non-null   object \n",
      " 13  Age (years)                        1000 non-null   float64\n",
      " 14  Concurrent Credits                 1000 non-null   object \n",
      " 15  Type of apartment                  1000 non-null   object \n",
      " 16  No of Credits at this Bank         1000 non-null   float64\n",
      " 17  Occupation                         1000 non-null   object \n",
      " 18  No of dependents                   1000 non-null   float64\n",
      " 19  Telephone                          1000 non-null   object \n",
      " 20  Foreign Worker                     1000 non-null   object \n",
      "dtypes: float64(6), object(15)\n",
      "memory usage: 164.2+ KB\n"
     ]
    }
   ],
   "source": [
    "#Check for null values in all rows\n",
    "raw_data.info()\n",
    "#Does not appear to be any null values"
   ]
  },
  {
   "cell_type": "code",
   "execution_count": 100,
   "metadata": {},
   "outputs": [
    {
     "data": {
      "text/html": [
       "<div>\n",
       "<style scoped>\n",
       "    .dataframe tbody tr th:only-of-type {\n",
       "        vertical-align: middle;\n",
       "    }\n",
       "\n",
       "    .dataframe tbody tr th {\n",
       "        vertical-align: top;\n",
       "    }\n",
       "\n",
       "    .dataframe thead th {\n",
       "        text-align: right;\n",
       "    }\n",
       "</style>\n",
       "<table border=\"1\" class=\"dataframe\">\n",
       "  <thead>\n",
       "    <tr style=\"text-align: right;\">\n",
       "      <th></th>\n",
       "      <th>Duration of Credit (month)</th>\n",
       "      <th>Credit Amount</th>\n",
       "      <th>Instalment per cent</th>\n",
       "      <th>Age (years)</th>\n",
       "      <th>No of Credits at this Bank</th>\n",
       "      <th>No of dependents</th>\n",
       "    </tr>\n",
       "  </thead>\n",
       "  <tbody>\n",
       "    <tr>\n",
       "      <th>count</th>\n",
       "      <td>1000.000000</td>\n",
       "      <td>1000.00000</td>\n",
       "      <td>1000.000000</td>\n",
       "      <td>1000.00000</td>\n",
       "      <td>1000.000000</td>\n",
       "      <td>1000.000000</td>\n",
       "    </tr>\n",
       "    <tr>\n",
       "      <th>mean</th>\n",
       "      <td>20.903000</td>\n",
       "      <td>3271.24800</td>\n",
       "      <td>2.973000</td>\n",
       "      <td>35.54200</td>\n",
       "      <td>1.407000</td>\n",
       "      <td>1.155000</td>\n",
       "    </tr>\n",
       "    <tr>\n",
       "      <th>std</th>\n",
       "      <td>12.058814</td>\n",
       "      <td>2822.75176</td>\n",
       "      <td>1.118715</td>\n",
       "      <td>11.35267</td>\n",
       "      <td>0.577654</td>\n",
       "      <td>0.362086</td>\n",
       "    </tr>\n",
       "    <tr>\n",
       "      <th>min</th>\n",
       "      <td>4.000000</td>\n",
       "      <td>250.00000</td>\n",
       "      <td>1.000000</td>\n",
       "      <td>19.00000</td>\n",
       "      <td>1.000000</td>\n",
       "      <td>1.000000</td>\n",
       "    </tr>\n",
       "    <tr>\n",
       "      <th>25%</th>\n",
       "      <td>12.000000</td>\n",
       "      <td>1365.50000</td>\n",
       "      <td>2.000000</td>\n",
       "      <td>27.00000</td>\n",
       "      <td>1.000000</td>\n",
       "      <td>1.000000</td>\n",
       "    </tr>\n",
       "    <tr>\n",
       "      <th>50%</th>\n",
       "      <td>18.000000</td>\n",
       "      <td>2319.50000</td>\n",
       "      <td>3.000000</td>\n",
       "      <td>33.00000</td>\n",
       "      <td>1.000000</td>\n",
       "      <td>1.000000</td>\n",
       "    </tr>\n",
       "    <tr>\n",
       "      <th>75%</th>\n",
       "      <td>24.000000</td>\n",
       "      <td>3972.25000</td>\n",
       "      <td>4.000000</td>\n",
       "      <td>42.00000</td>\n",
       "      <td>2.000000</td>\n",
       "      <td>1.000000</td>\n",
       "    </tr>\n",
       "    <tr>\n",
       "      <th>max</th>\n",
       "      <td>72.000000</td>\n",
       "      <td>18424.00000</td>\n",
       "      <td>4.000000</td>\n",
       "      <td>75.00000</td>\n",
       "      <td>4.000000</td>\n",
       "      <td>2.000000</td>\n",
       "    </tr>\n",
       "  </tbody>\n",
       "</table>\n",
       "</div>"
      ],
      "text/plain": [
       "       Duration of Credit (month)  Credit Amount  Instalment per cent  \\\n",
       "count                 1000.000000     1000.00000          1000.000000   \n",
       "mean                    20.903000     3271.24800             2.973000   \n",
       "std                     12.058814     2822.75176             1.118715   \n",
       "min                      4.000000      250.00000             1.000000   \n",
       "25%                     12.000000     1365.50000             2.000000   \n",
       "50%                     18.000000     2319.50000             3.000000   \n",
       "75%                     24.000000     3972.25000             4.000000   \n",
       "max                     72.000000    18424.00000             4.000000   \n",
       "\n",
       "       Age (years)  No of Credits at this Bank  No of dependents  \n",
       "count   1000.00000                 1000.000000       1000.000000  \n",
       "mean      35.54200                    1.407000          1.155000  \n",
       "std       11.35267                    0.577654          0.362086  \n",
       "min       19.00000                    1.000000          1.000000  \n",
       "25%       27.00000                    1.000000          1.000000  \n",
       "50%       33.00000                    1.000000          1.000000  \n",
       "75%       42.00000                    2.000000          1.000000  \n",
       "max       75.00000                    4.000000          2.000000  "
      ]
     },
     "execution_count": 100,
     "metadata": {},
     "output_type": "execute_result"
    }
   ],
   "source": [
    "#Calculate Descriptive Statistics\n",
    "raw_data.describe()"
   ]
  },
  {
   "cell_type": "code",
   "execution_count": 98,
   "metadata": {},
   "outputs": [
    {
     "name": "stdout",
     "output_type": "stream",
     "text": [
      "0      18.0\n",
      "1       9.0\n",
      "2      12.0\n",
      "3      12.0\n",
      "4      12.0\n",
      "       ... \n",
      "995    24.0\n",
      "996    24.0\n",
      "997    21.0\n",
      "998    12.0\n",
      "999    30.0\n",
      "Name: Duration of Credit (month), Length: 1000, dtype: float64\n"
     ]
    },
    {
     "data": {
      "image/png": "[encoded data removed]",
      "text/plain": [
       "<Figure size 432x288 with 1 Axes>"
      ]
     },
     "metadata": {
      "needs_background": "light"
     },
     "output_type": "display_data"
    },
    {
     "data": {
      "image/png": "[encoded data removed]",
      "text/plain": [
       "<Figure size 432x288 with 1 Axes>"
      ]
     },
     "metadata": {
      "needs_background": "light"
     },
     "output_type": "display_data"
    }
   ],
   "source": [
    "#Create box plots - Duration of Credit\n",
    "\n",
    "#Import modules matplotlib and numpy for plots \n",
    "import matplotlib.pyplot as plt\n",
    "\n",
    "#Get first quantitative column - Duration of Credit\n",
    "duration_credit = raw_data.iloc[:, 2]\n",
    "print(duration_credit)\n",
    "plt.boxplot(duration_credit)\n",
    "plt.show()\n",
    "\n",
    "#Calculate bin width using Freedman–Diaconis\n",
    "import numpy as np\n",
    "q25, q75 = np.percentile(age, [25, 75])\n",
    "width_duration_credit = 2 * (q75 - q25) * len(duration_credit) ** (-1/3)\n",
    "#Calculate number of bins\n",
    "from decimal import Decimal, ROUND_HALF_UP\n",
    "bins_duration_credit = int(Decimal((duration_credit.max() - duration_credit.min()) / width_duration_credit).quantize(0,ROUND_HALF_UP))\n",
    "#Plot Histogram\n",
    "plt.hist(duration_credit, density=False, bins=bins_duration_credit)\n",
    "plt.show()\n"
   ]
  },
  {
   "cell_type": "code",
   "execution_count": 85,
   "metadata": {},
   "outputs": [
    {
     "name": "stdout",
     "output_type": "stream",
     "text": [
      "0       1049.0\n",
      "1       2799.0\n",
      "2        841.0\n",
      "3       2122.0\n",
      "4       2171.0\n",
      "        ...   \n",
      "995     1987.0\n",
      "996     2303.0\n",
      "997    12680.0\n",
      "998     6468.0\n",
      "999     6350.0\n",
      "Name: Credit Amount, Length: 1000, dtype: float64\n"
     ]
    },
    {
     "data": {
      "image/png": "[encoded data removed]",
      "text/plain": [
       "<Figure size 432x288 with 1 Axes>"
      ]
     },
     "metadata": {
      "needs_background": "light"
     },
     "output_type": "display_data"
    },
    {
     "data": {
      "image/png": "[encoded data removed]",
      "text/plain": [
       "<Figure size 432x288 with 1 Axes>"
      ]
     },
     "metadata": {
      "needs_background": "light"
     },
     "output_type": "display_data"
    }
   ],
   "source": [
    "#Create box plots - Credit Amount\n",
    "\n",
    "#Import modules matplotlib and numpy for plots \n",
    "import matplotlib.pyplot as plt\n",
    "\n",
    "#Get first quantitative column - Credit Amount\n",
    "credit_amount = raw_data.iloc[:, 5]\n",
    "print(credit_amount)\n",
    "plt.boxplot(credit_amount)\n",
    "plt.show()\n",
    "\n",
    "#Calculate bin width using Freedman–Diaconis\n",
    "import numpy as np\n",
    "q25, q75 = np.percentile(age, [25, 75])\n",
    "width_credit_amount = 2 * (q75 - q25) * len(credit_amount) ** (-1/3)\n",
    "#Calculate number of bins\n",
    "from decimal import Decimal, ROUND_HALF_UP\n",
    "bins_credit_amount = int(Decimal((credit_amount.max() - credit_amount.min()) / width_credit_amount).quantize(0,ROUND_HALF_UP))\n",
    "#Plot Histogram\n",
    "plt.hist(credit_amount, density=False, bins=30)\n",
    "plt.show()"
   ]
  },
  {
   "cell_type": "code",
   "execution_count": 86,
   "metadata": {},
   "outputs": [
    {
     "name": "stdout",
     "output_type": "stream",
     "text": [
      "0      4.0\n",
      "1      2.0\n",
      "2      2.0\n",
      "3      3.0\n",
      "4      4.0\n",
      "      ... \n",
      "995    2.0\n",
      "996    4.0\n",
      "997    4.0\n",
      "998    2.0\n",
      "999    4.0\n",
      "Name: Instalment per cent, Length: 1000, dtype: float64\n"
     ]
    },
    {
     "data": {
      "image/png": "[encoded data removed]",
      "text/plain": [
       "<Figure size 432x288 with 1 Axes>"
      ]
     },
     "metadata": {
      "needs_background": "light"
     },
     "output_type": "display_data"
    }
   ],
   "source": [
    "#Create box plots - Installment Percent\n",
    "\n",
    "#Import modules matplotlib and numpy for plots \n",
    "import matplotlib.pyplot as plt\n",
    "\n",
    "#Get first quantitative column - Installment Percent\n",
    "installment_percent = raw_data.iloc[:, 8]\n",
    "print(installment_percent)\n",
    "plt.boxplot(installment_percent)\n",
    "\n",
    "#Plot Histogram\n",
    "plt.hist(installment_percent, density=False, bins=4)\n",
    "plt.show()"
   ]
  },
  {
   "cell_type": "code",
   "execution_count": 87,
   "metadata": {},
   "outputs": [
    {
     "name": "stdout",
     "output_type": "stream",
     "text": [
      "0      21.0\n",
      "1      36.0\n",
      "2      23.0\n",
      "3      39.0\n",
      "4      38.0\n",
      "       ... \n",
      "995    21.0\n",
      "996    45.0\n",
      "997    30.0\n",
      "998    52.0\n",
      "999    31.0\n",
      "Name: Age (years), Length: 1000, dtype: float64\n"
     ]
    },
    {
     "data": {
      "image/png": "[encoded data removed]",
      "text/plain": [
       "<Figure size 432x288 with 1 Axes>"
      ]
     },
     "metadata": {
      "needs_background": "light"
     },
     "output_type": "display_data"
    },
    {
     "data": {
      "image/png": "[encoded data removed]",
      "text/plain": [
       "<Figure size 432x288 with 1 Axes>"
      ]
     },
     "metadata": {
      "needs_background": "light"
     },
     "output_type": "display_data"
    }
   ],
   "source": [
    "#Create box plots - Age\n",
    "\n",
    "#Import modules matplotlib and numpy for plots \n",
    "import matplotlib.pyplot as plt\n",
    "\n",
    "#Get first quantitative column - Installment Percent\n",
    "age = raw_data.iloc[:, 13]\n",
    "print(age)\n",
    "plt.boxplot(age)\n",
    "plt.show()\n",
    "\n",
    "# Determine Distribution of numerical attributes by plotting histograms, for normal distributions also use Z-score to identify outliers\n",
    "\n",
    "#Calculate bin width using Freedman–Diaconis\n",
    "import numpy as np\n",
    "q25, q75 = np.percentile(age, [25, 75])\n",
    "width_age = 2 * (q75 - q25) * len(age) ** (-1/3)\n",
    "#Calculate number of bins\n",
    "from decimal import Decimal, ROUND_HALF_UP\n",
    "bins_age = int(Decimal((age.max() - age.min()) / width_age).quantize(0,ROUND_HALF_UP))\n",
    "#Plot Histogram\n",
    "plt.hist(age, density=False, bins=bins_age)\n",
    "plt.show()"
   ]
  },
  {
   "cell_type": "code",
   "execution_count": 88,
   "metadata": {},
   "outputs": [
    {
     "name": "stdout",
     "output_type": "stream",
     "text": [
      "0      1.0\n",
      "1      2.0\n",
      "2      1.0\n",
      "3      2.0\n",
      "4      2.0\n",
      "      ... \n",
      "995    1.0\n",
      "996    1.0\n",
      "997    1.0\n",
      "998    1.0\n",
      "999    1.0\n",
      "Name: No of Credits at this Bank, Length: 1000, dtype: float64\n"
     ]
    },
    {
     "data": {
      "image/png": "[encoded data removed]",
      "text/plain": [
       "<Figure size 432x288 with 1 Axes>"
      ]
     },
     "metadata": {
      "needs_background": "light"
     },
     "output_type": "display_data"
    }
   ],
   "source": [
    "#Create box plots - No. of Credits\n",
    "\n",
    "#Import modules matplotlib and numpy for plots \n",
    "import matplotlib.pyplot as plt\n",
    "\n",
    "#Get first quantitative column - No. of Credits\n",
    "num_credits = raw_data.iloc[:, 16]\n",
    "print(num_credits)\n",
    "plt.boxplot(num_credits)\n",
    "\n",
    "# Determine Distribution of numerical attributes by plotting histograms, for normal distributions also use Z-score to identify outliers\n",
    "\n",
    "#Plot Histogram\n",
    "plt.hist(num_credits, density=False, bins=4)\n",
    "plt.show()"
   ]
  },
  {
   "cell_type": "code",
   "execution_count": 89,
   "metadata": {},
   "outputs": [
    {
     "name": "stdout",
     "output_type": "stream",
     "text": [
      "0      1.0\n",
      "1      2.0\n",
      "2      1.0\n",
      "3      2.0\n",
      "4      1.0\n",
      "      ... \n",
      "995    2.0\n",
      "996    1.0\n",
      "997    1.0\n",
      "998    1.0\n",
      "999    1.0\n",
      "Name: No of dependents, Length: 1000, dtype: float64\n"
     ]
    },
    {
     "data": {
      "image/png": "[encoded data removed]",
      "text/plain": [
       "<Figure size 432x288 with 1 Axes>"
      ]
     },
     "metadata": {
      "needs_background": "light"
     },
     "output_type": "display_data"
    }
   ],
   "source": [
    "#Create box plots - No. of dependents\n",
    "\n",
    "#Import modules matplotlib and numpy for plots \n",
    "import matplotlib.pyplot as plt\n",
    "\n",
    "#Get first quantitative column - Duration of Credit\n",
    "num_deps = raw_data.iloc[:, 18]\n",
    "print(num_deps)\n",
    "plt.boxplot(num_deps)\n",
    "\n",
    "#Plot Histogram\n",
    "plt.hist(num_deps, density=False, bins=2)\n",
    "plt.show()"
   ]
  },
  {
   "cell_type": "code",
   "execution_count": 90,
   "metadata": {},
   "outputs": [
    {
     "name": "stdout",
     "output_type": "stream",
     "text": [
      "                            Duration of Credit (month)  Credit Amount  \\\n",
      "Duration of Credit (month)                    1.000000       0.624988   \n",
      "Credit Amount                                 0.624988       1.000000   \n",
      "Instalment per cent                           0.074749      -0.271322   \n",
      "Age (years)                                  -0.037550       0.032273   \n",
      "No of Credits at this Bank                   -0.011284       0.020785   \n",
      "No of dependents                             -0.023834       0.017144   \n",
      "\n",
      "                            Instalment per cent  Age (years)  \\\n",
      "Duration of Credit (month)             0.074749    -0.037550   \n",
      "Credit Amount                         -0.271322     0.032273   \n",
      "Instalment per cent                    1.000000     0.057271   \n",
      "Age (years)                            0.057271     1.000000   \n",
      "No of Credits at this Bank             0.021669     0.150718   \n",
      "No of dependents                      -0.071207     0.118589   \n",
      "\n",
      "                            No of Credits at this Bank  No of dependents  \n",
      "Duration of Credit (month)                   -0.011284         -0.023834  \n",
      "Credit Amount                                 0.020785          0.017144  \n",
      "Instalment per cent                           0.021669         -0.071207  \n",
      "Age (years)                                   0.150718          0.118589  \n",
      "No of Credits at this Bank                    1.000000          0.109667  \n",
      "No of dependents                              0.109667          1.000000  \n"
     ]
    }
   ],
   "source": [
    "import numpy as py\n",
    "corr_matrix = raw_data.corr()\n",
    "print(corr_matrix)"
   ]
  },
  {
   "cell_type": "code",
   "execution_count": null,
   "metadata": {},
   "outputs": [],
   "source": []
  }
 ],
 "metadata": {
  "kernelspec": {
   "display_name": "Python 3",
   "language": "python",
   "name": "python3"
  },
  "language_info": {
   "codemirror_mode": {
    "name": "ipython",
    "version": 3
   },
   "file_extension": ".py",
   "mimetype": "text/x-python",
   "name": "python",
   "nbconvert_exporter": "python",
   "pygments_lexer": "ipython3",
   "version": "3.7.6"
  }
 },
 "nbformat": 4,
 "nbformat_minor": 4
}
